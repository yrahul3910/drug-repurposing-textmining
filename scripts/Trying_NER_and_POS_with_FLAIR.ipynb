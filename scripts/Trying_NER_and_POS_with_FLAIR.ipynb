{
  "nbformat": 4,
  "nbformat_minor": 0,
  "metadata": {
    "colab": {
      "name": "Trying NER and POS with FLAIR.ipynb",
      "provenance": []
    },
    "kernelspec": {
      "name": "python3",
      "display_name": "Python 3"
    },
    "accelerator": "GPU"
  },
  "cells": [
    {
      "cell_type": "code",
      "metadata": {
        "id": "BGKYpZ5G-8s8",
        "colab_type": "code",
        "colab": {
          "base_uri": "https://localhost:8080/",
          "height": 1000
        },
        "outputId": "9db49461-7aa0-4427-82ba-032a62b3759a"
      },
      "source": [
        "!pip3 install flair"
      ],
      "execution_count": 1,
      "outputs": [
        {
          "output_type": "stream",
          "text": [
            "Collecting flair\n",
            "\u001b[?25l  Downloading https://files.pythonhosted.org/packages/16/22/8fc8e5978ec05b710216735ca47415700e83f304dec7e4281d61cefb6831/flair-0.4.4-py3-none-any.whl (193kB)\n",
            "\u001b[K     |████████████████████████████████| 194kB 6.6MB/s \n",
            "\u001b[?25hCollecting mpld3==0.3\n",
            "\u001b[?25l  Downloading https://files.pythonhosted.org/packages/91/95/a52d3a83d0a29ba0d6898f6727e9858fe7a43f6c2ce81a5fe7e05f0f4912/mpld3-0.3.tar.gz (788kB)\n",
            "\u001b[K     |████████████████████████████████| 798kB 42.4MB/s \n",
            "\u001b[?25hRequirement already satisfied: sklearn in /usr/local/lib/python3.6/dist-packages (from flair) (0.0)\n",
            "Collecting ipython==7.6.1\n",
            "\u001b[?25l  Downloading https://files.pythonhosted.org/packages/a6/2c/c7d44277b599df35af734d8f4142d501192fdb7aef5d04daf882d7eccfbc/ipython-7.6.1-py3-none-any.whl (774kB)\n",
            "\u001b[K     |████████████████████████████████| 778kB 46.2MB/s \n",
            "\u001b[?25hCollecting regex\n",
            "\u001b[?25l  Downloading https://files.pythonhosted.org/packages/e3/8e/cbf2295643d7265e7883326fb4654e643bfc93b3a8a8274d8010a39d8804/regex-2019.11.1-cp36-cp36m-manylinux1_x86_64.whl (643kB)\n",
            "\u001b[K     |████████████████████████████████| 645kB 44.1MB/s \n",
            "\u001b[?25hRequirement already satisfied: ipython-genutils==0.2.0 in /usr/local/lib/python3.6/dist-packages (from flair) (0.2.0)\n",
            "Collecting langdetect\n",
            "\u001b[?25l  Downloading https://files.pythonhosted.org/packages/59/59/4bc44158a767a6d66de18c4136c8aa90491d56cc951c10b74dd1e13213c9/langdetect-1.0.7.zip (998kB)\n",
            "\u001b[K     |████████████████████████████████| 1.0MB 47.6MB/s \n",
            "\u001b[?25hRequirement already satisfied: urllib3<1.25,>=1.20 in /usr/local/lib/python3.6/dist-packages (from flair) (1.24.3)\n",
            "Collecting bpemb>=0.2.9\n",
            "  Downloading https://files.pythonhosted.org/packages/bc/70/468a9652095b370f797ed37ff77e742b11565c6fd79eaeca5f2e50b164a7/bpemb-0.3.0-py3-none-any.whl\n",
            "Requirement already satisfied: pytest>=3.6.4 in /usr/local/lib/python3.6/dist-packages (from flair) (3.6.4)\n",
            "Requirement already satisfied: pymongo in /usr/local/lib/python3.6/dist-packages (from flair) (3.9.0)\n",
            "Requirement already satisfied: torch>=1.1.0 in /usr/local/lib/python3.6/dist-packages (from flair) (1.3.0+cu100)\n",
            "Collecting segtok>=1.5.7\n",
            "  Downloading https://files.pythonhosted.org/packages/1d/59/6ed78856ab99d2da04084b59e7da797972baa0efecb71546b16d48e49d9b/segtok-1.5.7.tar.gz\n",
            "Requirement already satisfied: torchvision in /usr/local/lib/python3.6/dist-packages (from flair) (0.4.1+cu100)\n",
            "Requirement already satisfied: matplotlib>=2.2.3 in /usr/local/lib/python3.6/dist-packages (from flair) (3.1.1)\n",
            "Collecting transformers>=2.0.0\n",
            "\u001b[?25l  Downloading https://files.pythonhosted.org/packages/fd/f9/51824e40f0a23a49eab4fcaa45c1c797cbf9761adedd0b558dab7c958b34/transformers-2.1.1-py3-none-any.whl (311kB)\n",
            "\u001b[K     |████████████████████████████████| 317kB 42.6MB/s \n",
            "\u001b[?25hCollecting tiny-tokenizer[all]\n",
            "  Downloading https://files.pythonhosted.org/packages/8c/ee/08078f68165a7465f028f3505e6a749b50f6f5c229bd272a863ab07acdc2/tiny_tokenizer-3.0.1.tar.gz\n",
            "Requirement already satisfied: hyperopt>=0.1.1 in /usr/local/lib/python3.6/dist-packages (from flair) (0.1.2)\n",
            "Collecting sqlitedict>=1.6.0\n",
            "  Downloading https://files.pythonhosted.org/packages/0f/1c/c757b93147a219cf1e25cef7e1ad9b595b7f802159493c45ce116521caff/sqlitedict-1.6.0.tar.gz\n",
            "Requirement already satisfied: tabulate in /usr/local/lib/python3.6/dist-packages (from flair) (0.8.5)\n",
            "Collecting deprecated>=1.2.4\n",
            "  Downloading https://files.pythonhosted.org/packages/88/0e/9d5a1a8cd7130c49334cce7b8167ceda63d6a329c8ea65b626116bc9e9e6/Deprecated-1.2.6-py2.py3-none-any.whl\n",
            "Requirement already satisfied: gensim>=3.4.0 in /usr/local/lib/python3.6/dist-packages (from flair) (3.6.0)\n",
            "Requirement already satisfied: tqdm>=4.26.0 in /usr/local/lib/python3.6/dist-packages (from flair) (4.28.1)\n",
            "Requirement already satisfied: scikit-learn in /usr/local/lib/python3.6/dist-packages (from sklearn->flair) (0.21.3)\n",
            "Requirement already satisfied: jedi>=0.10 in /usr/local/lib/python3.6/dist-packages (from ipython==7.6.1->flair) (0.15.1)\n",
            "Requirement already satisfied: decorator in /usr/local/lib/python3.6/dist-packages (from ipython==7.6.1->flair) (4.4.1)\n",
            "Requirement already satisfied: traitlets>=4.2 in /usr/local/lib/python3.6/dist-packages (from ipython==7.6.1->flair) (4.3.3)\n",
            "Requirement already satisfied: backcall in /usr/local/lib/python3.6/dist-packages (from ipython==7.6.1->flair) (0.1.0)\n",
            "Requirement already satisfied: setuptools>=18.5 in /usr/local/lib/python3.6/dist-packages (from ipython==7.6.1->flair) (41.4.0)\n",
            "Collecting prompt-toolkit<2.1.0,>=2.0.0\n",
            "\u001b[?25l  Downloading https://files.pythonhosted.org/packages/87/61/2dfea88583d5454e3a64f9308a686071d58d59a55db638268a6413e1eb6d/prompt_toolkit-2.0.10-py3-none-any.whl (340kB)\n",
            "\u001b[K     |████████████████████████████████| 348kB 43.4MB/s \n",
            "\u001b[?25hRequirement already satisfied: pickleshare in /usr/local/lib/python3.6/dist-packages (from ipython==7.6.1->flair) (0.7.5)\n",
            "Requirement already satisfied: pexpect; sys_platform != \"win32\" in /usr/local/lib/python3.6/dist-packages (from ipython==7.6.1->flair) (4.7.0)\n",
            "Requirement already satisfied: pygments in /usr/local/lib/python3.6/dist-packages (from ipython==7.6.1->flair) (2.1.3)\n",
            "Requirement already satisfied: six in /usr/local/lib/python3.6/dist-packages (from langdetect->flair) (1.12.0)\n",
            "Requirement already satisfied: numpy in /usr/local/lib/python3.6/dist-packages (from bpemb>=0.2.9->flair) (1.17.3)\n",
            "Collecting sentencepiece\n",
            "\u001b[?25l  Downloading https://files.pythonhosted.org/packages/14/3d/efb655a670b98f62ec32d66954e1109f403db4d937c50d779a75b9763a29/sentencepiece-0.1.83-cp36-cp36m-manylinux1_x86_64.whl (1.0MB)\n",
            "\u001b[K     |████████████████████████████████| 1.0MB 46.1MB/s \n",
            "\u001b[?25hRequirement already satisfied: requests in /usr/local/lib/python3.6/dist-packages (from bpemb>=0.2.9->flair) (2.21.0)\n",
            "Requirement already satisfied: pluggy<0.8,>=0.5 in /usr/local/lib/python3.6/dist-packages (from pytest>=3.6.4->flair) (0.7.1)\n",
            "Requirement already satisfied: attrs>=17.4.0 in /usr/local/lib/python3.6/dist-packages (from pytest>=3.6.4->flair) (19.3.0)\n",
            "Requirement already satisfied: atomicwrites>=1.0 in /usr/local/lib/python3.6/dist-packages (from pytest>=3.6.4->flair) (1.3.0)\n",
            "Requirement already satisfied: py>=1.5.0 in /usr/local/lib/python3.6/dist-packages (from pytest>=3.6.4->flair) (1.8.0)\n",
            "Requirement already satisfied: more-itertools>=4.0.0 in /usr/local/lib/python3.6/dist-packages (from pytest>=3.6.4->flair) (7.2.0)\n",
            "Requirement already satisfied: pillow>=4.1.1 in /usr/local/lib/python3.6/dist-packages (from torchvision->flair) (4.3.0)\n",
            "Requirement already satisfied: cycler>=0.10 in /usr/local/lib/python3.6/dist-packages (from matplotlib>=2.2.3->flair) (0.10.0)\n",
            "Requirement already satisfied: pyparsing!=2.0.4,!=2.1.2,!=2.1.6,>=2.0.1 in /usr/local/lib/python3.6/dist-packages (from matplotlib>=2.2.3->flair) (2.4.2)\n",
            "Requirement already satisfied: kiwisolver>=1.0.1 in /usr/local/lib/python3.6/dist-packages (from matplotlib>=2.2.3->flair) (1.1.0)\n",
            "Requirement already satisfied: python-dateutil>=2.1 in /usr/local/lib/python3.6/dist-packages (from matplotlib>=2.2.3->flair) (2.6.1)\n",
            "Requirement already satisfied: boto3 in /usr/local/lib/python3.6/dist-packages (from transformers>=2.0.0->flair) (1.10.7)\n",
            "Collecting sacremoses\n",
            "\u001b[?25l  Downloading https://files.pythonhosted.org/packages/1f/8e/ed5364a06a9ba720fddd9820155cc57300d28f5f43a6fd7b7e817177e642/sacremoses-0.0.35.tar.gz (859kB)\n",
            "\u001b[K     |████████████████████████████████| 860kB 38.2MB/s \n",
            "\u001b[?25hCollecting natto-py\n",
            "  Downloading https://files.pythonhosted.org/packages/2f/a0/eaac1ed66c02823a2423a21de863da53a5268ce77582d91d1edb45a403dc/natto-py-0.9.0.tar.gz\n",
            "Collecting kytea\n",
            "\u001b[?25l  Downloading https://files.pythonhosted.org/packages/fe/bc/702d01a96d5d094bd9f3c2eb1d12153daf8edf7bf5d78b9a2dae1202df07/kytea-0.1.4-cp36-cp36m-manylinux1_x86_64.whl (3.8MB)\n",
            "\u001b[K     |████████████████████████████████| 3.8MB 27.0MB/s \n",
            "\u001b[?25hCollecting SudachiPy\n",
            "\u001b[?25l  Downloading https://files.pythonhosted.org/packages/b6/09/7c55ab89d7bcdd8075929add8b096c4b5347d661d78e7d4884214f672513/SudachiPy-0.4.0-py3-none-any.whl (73kB)\n",
            "\u001b[K     |████████████████████████████████| 81kB 8.6MB/s \n",
            "\u001b[?25hRequirement already satisfied: networkx in /usr/local/lib/python3.6/dist-packages (from hyperopt>=0.1.1->flair) (2.4)\n",
            "Requirement already satisfied: future in /usr/local/lib/python3.6/dist-packages (from hyperopt>=0.1.1->flair) (0.16.0)\n",
            "Requirement already satisfied: scipy in /usr/local/lib/python3.6/dist-packages (from hyperopt>=0.1.1->flair) (1.3.1)\n",
            "Requirement already satisfied: wrapt<2,>=1.10 in /usr/local/lib/python3.6/dist-packages (from deprecated>=1.2.4->flair) (1.11.2)\n",
            "Requirement already satisfied: smart-open>=1.2.1 in /usr/local/lib/python3.6/dist-packages (from gensim>=3.4.0->flair) (1.8.4)\n",
            "Requirement already satisfied: joblib>=0.11 in /usr/local/lib/python3.6/dist-packages (from scikit-learn->sklearn->flair) (0.14.0)\n",
            "Requirement already satisfied: parso>=0.5.0 in /usr/local/lib/python3.6/dist-packages (from jedi>=0.10->ipython==7.6.1->flair) (0.5.1)\n",
            "Requirement already satisfied: wcwidth in /usr/local/lib/python3.6/dist-packages (from prompt-toolkit<2.1.0,>=2.0.0->ipython==7.6.1->flair) (0.1.7)\n",
            "Requirement already satisfied: ptyprocess>=0.5 in /usr/local/lib/python3.6/dist-packages (from pexpect; sys_platform != \"win32\"->ipython==7.6.1->flair) (0.6.0)\n",
            "Requirement already satisfied: idna<2.9,>=2.5 in /usr/local/lib/python3.6/dist-packages (from requests->bpemb>=0.2.9->flair) (2.8)\n",
            "Requirement already satisfied: certifi>=2017.4.17 in /usr/local/lib/python3.6/dist-packages (from requests->bpemb>=0.2.9->flair) (2019.9.11)\n",
            "Requirement already satisfied: chardet<3.1.0,>=3.0.2 in /usr/local/lib/python3.6/dist-packages (from requests->bpemb>=0.2.9->flair) (3.0.4)\n",
            "Requirement already satisfied: olefile in /usr/local/lib/python3.6/dist-packages (from pillow>=4.1.1->torchvision->flair) (0.46)\n",
            "Requirement already satisfied: jmespath<1.0.0,>=0.7.1 in /usr/local/lib/python3.6/dist-packages (from boto3->transformers>=2.0.0->flair) (0.9.4)\n",
            "Requirement already satisfied: botocore<1.14.0,>=1.13.7 in /usr/local/lib/python3.6/dist-packages (from boto3->transformers>=2.0.0->flair) (1.13.7)\n",
            "Requirement already satisfied: s3transfer<0.3.0,>=0.2.0 in /usr/local/lib/python3.6/dist-packages (from boto3->transformers>=2.0.0->flair) (0.2.1)\n",
            "Requirement already satisfied: click in /usr/local/lib/python3.6/dist-packages (from sacremoses->transformers>=2.0.0->flair) (7.0)\n",
            "Requirement already satisfied: cffi in /usr/local/lib/python3.6/dist-packages (from natto-py->tiny-tokenizer[all]->flair) (1.13.1)\n",
            "Requirement already satisfied: sortedcontainers~=2.1.0 in /usr/local/lib/python3.6/dist-packages (from SudachiPy->tiny-tokenizer[all]->flair) (2.1.0)\n",
            "Collecting dartsclone~=0.6.0\n",
            "  Downloading https://files.pythonhosted.org/packages/7d/4d/45acbe9d0795d8ceef0fee1f9ac2dcbf27dca3a0578a023fcdc3fef6fd89/dartsclone-0.6.tar.gz\n",
            "Requirement already satisfied: boto>=2.32 in /usr/local/lib/python3.6/dist-packages (from smart-open>=1.2.1->gensim>=3.4.0->flair) (2.49.0)\n",
            "Requirement already satisfied: docutils<0.16,>=0.10 in /usr/local/lib/python3.6/dist-packages (from botocore<1.14.0,>=1.13.7->boto3->transformers>=2.0.0->flair) (0.15.2)\n",
            "Requirement already satisfied: pycparser in /usr/local/lib/python3.6/dist-packages (from cffi->natto-py->tiny-tokenizer[all]->flair) (2.19)\n",
            "Requirement already satisfied: Cython in /usr/local/lib/python3.6/dist-packages (from dartsclone~=0.6.0->SudachiPy->tiny-tokenizer[all]->flair) (0.29.13)\n",
            "Building wheels for collected packages: mpld3, langdetect, segtok, tiny-tokenizer, sqlitedict, sacremoses, natto-py, dartsclone\n",
            "  Building wheel for mpld3 (setup.py) ... \u001b[?25l\u001b[?25hdone\n",
            "  Created wheel for mpld3: filename=mpld3-0.3-cp36-none-any.whl size=116679 sha256=1e4e95a2036004bfab1ba37e26a3c44213d723f2eaa54648d29804f75801ef5d\n",
            "  Stored in directory: /root/.cache/pip/wheels/c0/47/fb/8a64f89aecfe0059830479308ad42d62e898a3e3cefdf6ba28\n",
            "  Building wheel for langdetect (setup.py) ... \u001b[?25l\u001b[?25hdone\n",
            "  Created wheel for langdetect: filename=langdetect-1.0.7-cp36-none-any.whl size=993460 sha256=20c76652b47de936ce4c04ad4e95ba34d4c8c4ed19f4a38c9994752b84bafa00\n",
            "  Stored in directory: /root/.cache/pip/wheels/ec/0c/a9/1647275e7ef5014e7b83ff30105180e332867d65e7617ddafe\n",
            "  Building wheel for segtok (setup.py) ... \u001b[?25l\u001b[?25hdone\n",
            "  Created wheel for segtok: filename=segtok-1.5.7-cp36-none-any.whl size=23258 sha256=dce75363178b8c3ac6b4fb8e014d614470761396f780d15ed2524dca0f63c360\n",
            "  Stored in directory: /root/.cache/pip/wheels/15/ee/a8/6112173f1386d33eebedb3f73429cfa41a4c3084556bcee254\n",
            "  Building wheel for tiny-tokenizer (setup.py) ... \u001b[?25l\u001b[?25hdone\n",
            "  Created wheel for tiny-tokenizer: filename=tiny_tokenizer-3.0.1-cp36-none-any.whl size=9444 sha256=38eac6e3bdfabe725474835254c6a27afc0f002da03e0c27c5a3eb53a468cfc7\n",
            "  Stored in directory: /root/.cache/pip/wheels/76/04/72/d04956c4b03e3b03e5e095c06cbabc9bfb6f1bec02288eacdb\n",
            "  Building wheel for sqlitedict (setup.py) ... \u001b[?25l\u001b[?25hdone\n",
            "  Created wheel for sqlitedict: filename=sqlitedict-1.6.0-cp36-none-any.whl size=14689 sha256=86f5aa1e048d59ff11db05f1c25da46c1a20cea4b07fac8e4b4b80598d73ed7f\n",
            "  Stored in directory: /root/.cache/pip/wheels/bd/57/d3/907c3ee02d35e66f674ad0106e61f06eeeb98f6ee66a6cc3fe\n",
            "  Building wheel for sacremoses (setup.py) ... \u001b[?25l\u001b[?25hdone\n",
            "  Created wheel for sacremoses: filename=sacremoses-0.0.35-cp36-none-any.whl size=883999 sha256=095a630950598559da6c00948816c38a9eccf556afc9ce2b90e2907a98a84bc8\n",
            "  Stored in directory: /root/.cache/pip/wheels/63/2a/db/63e2909042c634ef551d0d9ac825b2b0b32dede4a6d87ddc94\n",
            "  Building wheel for natto-py (setup.py) ... \u001b[?25l\u001b[?25hdone\n",
            "  Created wheel for natto-py: filename=natto_py-0.9.0-cp36-none-any.whl size=45075 sha256=00a7233d5ca35fec72216cce870e7335c94c88d820a22ab9ea28674152610d2c\n",
            "  Stored in directory: /root/.cache/pip/wheels/21/98/3a/ebfb1636e18698b3f47d8caa3f90fc3a91f1ea58430616018f\n",
            "  Building wheel for dartsclone (setup.py) ... \u001b[?25l\u001b[?25hdone\n",
            "  Created wheel for dartsclone: filename=dartsclone-0.6-cp36-cp36m-linux_x86_64.whl size=414001 sha256=a0e0dbb1839ab5b7e409708afa1e4ae987848e1c25a662211d09503199dea9e1\n",
            "  Stored in directory: /root/.cache/pip/wheels/be/cd/70/fe43307bf7398243155108f4f5a258ef336923d65ec4af93cd\n",
            "Successfully built mpld3 langdetect segtok tiny-tokenizer sqlitedict sacremoses natto-py dartsclone\n",
            "\u001b[31mERROR: jupyter-console 5.2.0 has requirement prompt-toolkit<2.0.0,>=1.0.0, but you'll have prompt-toolkit 2.0.10 which is incompatible.\u001b[0m\n",
            "\u001b[31mERROR: google-colab 1.0.0 has requirement ipython~=5.5.0, but you'll have ipython 7.6.1 which is incompatible.\u001b[0m\n",
            "Installing collected packages: mpld3, prompt-toolkit, ipython, regex, langdetect, sentencepiece, bpemb, segtok, sacremoses, transformers, natto-py, kytea, dartsclone, SudachiPy, tiny-tokenizer, sqlitedict, deprecated, flair\n",
            "  Found existing installation: prompt-toolkit 1.0.18\n",
            "    Uninstalling prompt-toolkit-1.0.18:\n",
            "      Successfully uninstalled prompt-toolkit-1.0.18\n",
            "  Found existing installation: ipython 5.5.0\n",
            "    Uninstalling ipython-5.5.0:\n",
            "      Successfully uninstalled ipython-5.5.0\n",
            "Successfully installed SudachiPy-0.4.0 bpemb-0.3.0 dartsclone-0.6 deprecated-1.2.6 flair-0.4.4 ipython-7.6.1 kytea-0.1.4 langdetect-1.0.7 mpld3-0.3 natto-py-0.9.0 prompt-toolkit-2.0.10 regex-2019.11.1 sacremoses-0.0.35 segtok-1.5.7 sentencepiece-0.1.83 sqlitedict-1.6.0 tiny-tokenizer-3.0.1 transformers-2.1.1\n"
          ],
          "name": "stdout"
        },
        {
          "output_type": "display_data",
          "data": {
            "application/vnd.colab-display-data+json": {
              "pip_warning": {
                "packages": [
                  "IPython",
                  "prompt_toolkit"
                ]
              }
            }
          },
          "metadata": {
            "tags": []
          }
        }
      ]
    },
    {
      "cell_type": "code",
      "metadata": {
        "id": "IPS11ROb_BB-",
        "colab_type": "code",
        "colab": {}
      },
      "source": [
        "from flair.data import Sentence"
      ],
      "execution_count": 0,
      "outputs": []
    },
    {
      "cell_type": "code",
      "metadata": {
        "id": "3LgFvtsW_Whq",
        "colab_type": "code",
        "colab": {}
      },
      "source": [
        "from flair.models import SequenceTagger"
      ],
      "execution_count": 0,
      "outputs": []
    },
    {
      "cell_type": "code",
      "metadata": {
        "id": "i3UvFXL2_ZUZ",
        "colab_type": "code",
        "colab": {}
      },
      "source": [
        "sentence = Sentence('I have asthma and I took aspirin.')"
      ],
      "execution_count": 0,
      "outputs": []
    },
    {
      "cell_type": "code",
      "metadata": {
        "id": "QDk_z7OP_eFQ",
        "colab_type": "code",
        "colab": {
          "base_uri": "https://localhost:8080/",
          "height": 34
        },
        "outputId": "d6de38d3-d4c4-40fe-a039-422eed62bba8"
      },
      "source": [
        "tagger = SequenceTagger.load('ner-ontonotes')"
      ],
      "execution_count": 11,
      "outputs": [
        {
          "output_type": "stream",
          "text": [
            "2019-11-06 04:56:29,004 loading file /root/.flair/models/en-ner-ontonotes-v0.4.pt\n"
          ],
          "name": "stdout"
        }
      ]
    },
    {
      "cell_type": "code",
      "metadata": {
        "id": "wzcnd-Wv_jy3",
        "colab_type": "code",
        "colab": {
          "base_uri": "https://localhost:8080/",
          "height": 34
        },
        "outputId": "cfbb1a44-7a07-477b-df14-764229edbe5b"
      },
      "source": [
        "tagger.predict(sentence)"
      ],
      "execution_count": 6,
      "outputs": [
        {
          "output_type": "execute_result",
          "data": {
            "text/plain": [
              "[Sentence: \"I have asthma and I took aspirin.\" - 7 Tokens]"
            ]
          },
          "metadata": {
            "tags": []
          },
          "execution_count": 6
        }
      ]
    },
    {
      "cell_type": "code",
      "metadata": {
        "id": "9Et-Loxw_wjv",
        "colab_type": "code",
        "colab": {}
      },
      "source": [
        "for token in sentence.get_spans('ner-ontonotes'):\n",
        "    print(token)"
      ],
      "execution_count": 0,
      "outputs": []
    },
    {
      "cell_type": "code",
      "metadata": {
        "id": "zDYi8iC8_4Ir",
        "colab_type": "code",
        "colab": {
          "base_uri": "https://localhost:8080/",
          "height": 34
        },
        "outputId": "861d17fa-c0c6-4273-bb9d-9f3df2f054f8"
      },
      "source": [
        "tagger = SequenceTagger.load('pos')"
      ],
      "execution_count": 17,
      "outputs": [
        {
          "output_type": "stream",
          "text": [
            "2019-11-06 05:07:07,258 loading file /root/.flair/models/en-pos-ontonotes-v0.4.pt\n"
          ],
          "name": "stdout"
        }
      ]
    },
    {
      "cell_type": "code",
      "metadata": {
        "id": "d_SE2EU1_78R",
        "colab_type": "code",
        "colab": {
          "base_uri": "https://localhost:8080/",
          "height": 34
        },
        "outputId": "afffba29-3ec6-4295-8c5e-6ea25ebbacb2"
      },
      "source": [
        "tagger.predict(sentence)"
      ],
      "execution_count": 18,
      "outputs": [
        {
          "output_type": "execute_result",
          "data": {
            "text/plain": [
              "[Sentence: \"I have asthma and I took aspirin.\" - 7 Tokens]"
            ]
          },
          "metadata": {
            "tags": []
          },
          "execution_count": 18
        }
      ]
    },
    {
      "cell_type": "code",
      "metadata": {
        "id": "fxDQDSKfABGX",
        "colab_type": "code",
        "colab": {
          "base_uri": "https://localhost:8080/",
          "height": 139
        },
        "outputId": "47806058-1adc-4dda-a0e6-99de094cf8f9"
      },
      "source": [
        "for token in sentence.get_spans('pos'):\n",
        "    print(token)"
      ],
      "execution_count": 22,
      "outputs": [
        {
          "output_type": "stream",
          "text": [
            "PRON-span [1]: \"I\"\n",
            "VERB-span [2]: \"have\"\n",
            "NOUN-span [3]: \"asthma\"\n",
            "CCONJ-span [4]: \"and\"\n",
            "PRON-span [5]: \"I\"\n",
            "VERB-span [6]: \"took\"\n",
            "NOUN-span [7]: \"aspirin.\"\n"
          ],
          "name": "stdout"
        }
      ]
    },
    {
      "cell_type": "code",
      "metadata": {
        "id": "IWgTvwMJAEFJ",
        "colab_type": "code",
        "colab": {}
      },
      "source": [
        "sentences = [\n",
        "             \"when your allergies are acting up it's hard to breathe now that pollen is in the air what can you do to ease your symptoms this is the People's Pharmacy with Terry and Joe graedon\",\n",
        "             \"in the People's Pharmacy Health headlines a Mediterranean diet heavy on extra virgin olive oil has just been shown to significantly lower the risk of malignant breast cancer the research published in Jama internal medicine is an extension of a Spanish study called pretty med 3 years ago the first phase of the trial demonstrated that a Mediterranean diet supplemented with either nuts or 4 tablespoons of olive oil daily could reduce the risk of heart attacks and strokes in the spring of 2015 a second phase of the study revealed that compared to a lower fat diet the Mediterranean diet without add nuts or olive oil could help reduce the risk of memory loss and cognitive decline in older people now the same high-fat Mediterranean diet has been shown to impact the risk of developing breast cancer the Spanish investigators randomly assigned about 4,000 women to either a low fat diet or Mediterranean\"\n",
        "]"
      ],
      "execution_count": 0,
      "outputs": []
    },
    {
      "cell_type": "code",
      "metadata": {
        "id": "PUXtYygcE2mV",
        "colab_type": "code",
        "colab": {
          "base_uri": "https://localhost:8080/",
          "height": 937
        },
        "outputId": "74f31296-af4f-47d0-965e-5ab44b267fef"
      },
      "source": [
        "tagger = SequenceTagger.load('pos')\n",
        "\n",
        "for sentence in sentences:\n",
        "    obj = Sentence(sentence)\n",
        "    tagger.predict(obj)\n",
        "    \n",
        "    for token in obj.get_spans('pos'):\n",
        "        if token.tag == 'NOUN':\n",
        "            print(token)\n",
        "    \n",
        "    print('=========================')"
      ],
      "execution_count": 25,
      "outputs": [
        {
          "output_type": "stream",
          "text": [
            "2019-11-06 05:11:43,131 loading file /root/.flair/models/en-pos-ontonotes-v0.4.pt\n",
            "NOUN-span [3]: \"allergies\"\n",
            "NOUN-span [7]: \"it's\"\n",
            "NOUN-span [13]: \"pollen\"\n",
            "NOUN-span [17]: \"air\"\n",
            "NOUN-span [25]: \"symptoms\"\n",
            "=========================\n",
            "NOUN-span [6]: \"headlines\"\n",
            "NOUN-span [9]: \"diet\"\n",
            "NOUN-span [14]: \"olive\"\n",
            "NOUN-span [15]: \"oil\"\n",
            "NOUN-span [24]: \"risk\"\n",
            "NOUN-span [27]: \"breast\"\n",
            "NOUN-span [28]: \"cancer\"\n",
            "NOUN-span [30]: \"research\"\n",
            "NOUN-span [35]: \"medicine\"\n",
            "NOUN-span [38]: \"extension\"\n",
            "NOUN-span [42]: \"study\"\n",
            "NOUN-span [47]: \"years\"\n",
            "NOUN-span [51]: \"phase\"\n",
            "NOUN-span [54]: \"trial\"\n",
            "NOUN-span [59]: \"diet\"\n",
            "NOUN-span [63]: \"nuts\"\n",
            "NOUN-span [66]: \"tablespoons\"\n",
            "NOUN-span [68]: \"olive\"\n",
            "NOUN-span [69]: \"oil\"\n",
            "NOUN-span [74]: \"risk\"\n",
            "NOUN-span [76]: \"heart\"\n",
            "NOUN-span [77]: \"attacks\"\n",
            "NOUN-span [79]: \"strokes\"\n",
            "NOUN-span [82]: \"spring\"\n",
            "NOUN-span [87]: \"phase\"\n",
            "NOUN-span [90]: \"study\"\n",
            "NOUN-span [97]: \"fat\"\n",
            "NOUN-span [98]: \"diet\"\n",
            "NOUN-span [101]: \"diet\"\n",
            "NOUN-span [104]: \"nuts\"\n",
            "NOUN-span [106]: \"olive\"\n",
            "NOUN-span [107]: \"oil\"\n",
            "NOUN-span [112]: \"risk\"\n",
            "NOUN-span [114]: \"memory\"\n",
            "NOUN-span [115]: \"loss\"\n",
            "NOUN-span [118]: \"decline\"\n",
            "NOUN-span [121]: \"people\"\n",
            "NOUN-span [127]: \"diet\"\n",
            "NOUN-span [134]: \"risk\"\n",
            "NOUN-span [137]: \"breast\"\n",
            "NOUN-span [138]: \"cancer\"\n",
            "NOUN-span [141]: \"investigators\"\n",
            "NOUN-span [146]: \"women\"\n",
            "NOUN-span [151]: \"fat\"\n",
            "NOUN-span [152]: \"diet\"\n",
            "=========================\n"
          ],
          "name": "stdout"
        }
      ]
    },
    {
      "cell_type": "code",
      "metadata": {
        "id": "X7TbWTzHH5kR",
        "colab_type": "code",
        "colab": {
          "base_uri": "https://localhost:8080/",
          "height": 367
        },
        "outputId": "648ed9f3-b6bd-41d1-cd71-98108578f492"
      },
      "source": [
        "tagger = SequenceTagger.load('ner')\n",
        "\n",
        "for sentence in sentences:\n",
        "    obj = Sentence(sentence)\n",
        "    tagger.predict(obj)\n",
        "    \n",
        "    for token in obj.get_spans('ner'):\n",
        "        print(token)\n",
        "    \n",
        "    print('=========================')"
      ],
      "execution_count": 26,
      "outputs": [
        {
          "output_type": "stream",
          "text": [
            "2019-11-06 05:15:33,249 https://s3.eu-central-1.amazonaws.com/alan-nlp/resources/models-v0.4/NER-conll03-english/en-ner-conll03-v0.4.pt not found in cache, downloading to /tmp/tmpn4479s5o\n"
          ],
          "name": "stdout"
        },
        {
          "output_type": "stream",
          "text": [
            "100%|██████████| 432197603/432197603 [00:08<00:00, 52842864.78B/s]"
          ],
          "name": "stderr"
        },
        {
          "output_type": "stream",
          "text": [
            "2019-11-06 05:15:41,511 copying /tmp/tmpn4479s5o to cache at /root/.flair/models/en-ner-conll03-v0.4.pt\n"
          ],
          "name": "stdout"
        },
        {
          "output_type": "stream",
          "text": [
            "\n"
          ],
          "name": "stderr"
        },
        {
          "output_type": "stream",
          "text": [
            "2019-11-06 05:15:42,925 removing temp file /tmp/tmpn4479s5o\n",
            "2019-11-06 05:15:42,987 loading file /root/.flair/models/en-ner-conll03-v0.4.pt\n",
            "ORG-span [29,30]: \"People's Pharmacy\"\n",
            "PER-span [32]: \"Terry\"\n",
            "PER-span [34,35]: \"Joe graedon\"\n",
            "=========================\n",
            "ORG-span [3,4,5]: \"People's Pharmacy Health\"\n",
            "MISC-span [8]: \"Mediterranean\"\n",
            "ORG-span [33]: \"Jama\"\n",
            "MISC-span [41]: \"Spanish\"\n",
            "MISC-span [58]: \"Mediterranean\"\n",
            "MISC-span [100]: \"Mediterranean\"\n",
            "MISC-span [126]: \"Mediterranean\"\n",
            "MISC-span [140]: \"Spanish\"\n",
            "MISC-span [154]: \"Mediterranean\"\n",
            "=========================\n"
          ],
          "name": "stdout"
        }
      ]
    },
    {
      "cell_type": "code",
      "metadata": {
        "id": "ImlEDE7nI6qu",
        "colab_type": "code",
        "colab": {}
      },
      "source": [
        ""
      ],
      "execution_count": 0,
      "outputs": []
    }
  ]
}